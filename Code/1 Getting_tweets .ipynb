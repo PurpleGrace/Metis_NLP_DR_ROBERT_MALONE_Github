{
 "cells": [
  {
   "cell_type": "code",
   "execution_count": 1,
   "id": "0d929a9f",
   "metadata": {
    "scrolled": true
   },
   "outputs": [],
   "source": [
    "#!pip uninstall tweepy -y\n",
    "#!pip install geotext"
   ]
  },
  {
   "cell_type": "code",
   "execution_count": 2,
   "id": "5d40780f",
   "metadata": {},
   "outputs": [],
   "source": [
    "#!pip3 install tweepy"
   ]
  },
  {
   "cell_type": "code",
   "execution_count": 3,
   "id": "0608e91d",
   "metadata": {},
   "outputs": [],
   "source": [
    "import tweepy\n",
    "import webbrowser\n",
    "import time\n",
    "import os\n",
    "\n",
    "from dotenv import dotenv_values\n",
    "from dotenv import load_dotenv\n",
    "\n",
    "import pickle\n",
    "\n",
    "import pandas as pd\n",
    "import numpy as np\n",
    "import re\n"
   ]
  },
  {
   "cell_type": "code",
   "execution_count": 4,
   "id": "0401deab",
   "metadata": {},
   "outputs": [],
   "source": [
    "load_dotenv()\n",
    "\n",
    "consumer_key = os.getenv(\"CONSUMER_KEY\")\n",
    "consumer_secret = os.getenv(\"CONSUMER_SECRET\")\n",
    "access_token = os.getenv(\"ACCESS_TOKEN\")\n",
    "access_token_secret = os.getenv(\"ACCESS_TOKEN_SECRET\")\n",
    "bearer_token = os.getenv('BEARER_TOKEN')"
   ]
  },
  {
   "cell_type": "code",
   "execution_count": 5,
   "id": "c20b430e",
   "metadata": {},
   "outputs": [],
   "source": [
    "client = tweepy.Client(bearer_token=bearer_token, wait_on_rate_limit=True)"
   ]
  },
  {
   "cell_type": "code",
   "execution_count": 6,
   "id": "81fda624",
   "metadata": {},
   "outputs": [],
   "source": [
    "query =  (' \"robert malone\" -is:retweet lang:en OR \\\n",
    "            \"dr malone\" -is:retweet lang:en')\n",
    "\n",
    "max_results = 100\n",
    "place_fields = ['full_name',\"id\",\"country\",\"country_code\",\"geo\",\"name\",\"place_type\"]\n",
    "tweet_fields = [\"created_at\",\"text\",\"source\",\"public_metrics\",\"lang\",\"geo\",\"context_annotations\"]\n",
    "user_fields = [\"name\", \"username\",'public_metrics',\"location\",\"verified\",\"description\"]\n",
    "expansions= 'author_id'\n"
   ]
  },
  {
   "cell_type": "code",
   "execution_count": 6,
   "id": "eeeacb8b",
   "metadata": {},
   "outputs": [
    {
     "data": {
      "text/plain": [
       "25756"
      ]
     },
     "execution_count": 6,
     "metadata": {},
     "output_type": "execute_result"
    }
   ],
   "source": [
    "# check number of tweets in 7 days\n",
    "query =  (' \"dr malone \" -is:retweet lang:en OR \\\n",
    "            \"robert malone \" -is:retweet lang:en')\n",
    "count_tweet = client.get_recent_tweets_count(query)\n",
    "tweet_numbers = pd.DataFrame(count_tweet.data)\n",
    "tweet_numbers.tweet_count.sum()"
   ]
  },
  {
   "cell_type": "code",
   "execution_count": 8,
   "id": "f48e4223",
   "metadata": {},
   "outputs": [],
   "source": [
    "# The code transform tweet to dataframe use the following link as reference: https://github.com/jdfoote/Intro-to-Programming-and-Data-Science/blob/fall2021/extra_topics/twitter_v2_example.ipynb\n",
    "\n",
    "\n",
    "if os.path.exists(\"tweets_malone.pkl\") == False:\n",
    "    \n",
    "    tweets_malone = []\n",
    "    file_name = 'tweets_malone.txt'\n",
    "\n",
    "    with open(file_name, 'a+') as filehandle:\n",
    "\n",
    "        for response in tweepy.Paginator(client.search_recent_tweets,query = query,\n",
    "                                    expansions = expansions,\n",
    "                                    place_fields = place_fields, \n",
    "                                    tweet_fields = tweet_fields,\n",
    "                                    user_fields = user_fields,\n",
    "                                    max_results = max_results,limit=500):\n",
    "            time.sleep(1)\n",
    "            tweets_malone.append(response)\n",
    "            for tweet in response :\n",
    "                filehandle.write('%s\\n' % tweet)\n",
    "    \n",
    "    result = []\n",
    "    user_dict = {}\n",
    "    # Loop through each response object\n",
    "    for response in tweets_malone:\n",
    "        # Take all of the users, and put them into a dictionary of dictionaries with the info we want to keep\n",
    "        for user in response.includes['users']:\n",
    "            user_dict[user.id] = {'username': user.username, \n",
    "                                  'followers': user.public_metrics['followers_count'],\n",
    "                                  'followings':user.public_metrics['following_count'],\n",
    "                                  'tweets': user.public_metrics['tweet_count'],\n",
    "                                  'description': user.description,\n",
    "                                  'location': user.location\n",
    "                                 }\n",
    "        for tweet in response.data:\n",
    "            # For each tweet, find the author's information\n",
    "            author_info = user_dict[tweet.author_id]\n",
    "            # Put all of the information we want to keep in a single dictionary for each tweet\n",
    "            result.append({'author_id': tweet.author_id, \n",
    "                           'username': author_info['username'],\n",
    "                           'author_followers': author_info['followers'],\n",
    "                           'author_followings': author_info['followings'],\n",
    "                           'author_tweets': author_info['tweets'],\n",
    "                           'author_description': author_info['description'],\n",
    "                           'author_location': author_info['location'],\n",
    "                           'text': tweet.text,\n",
    "                           'created_at': tweet.created_at,\n",
    "                           'retweets': tweet.public_metrics['retweet_count'],\n",
    "                           'replies': tweet.public_metrics['reply_count'],\n",
    "                           'likes': tweet.public_metrics['like_count'],\n",
    "                           'quote_count': tweet.public_metrics['quote_count']\n",
    "                          })\n",
    "    \n",
    "    df_tweets_malone = pd.DataFrame(result)\n",
    "    \n",
    "    with open('tweets_malone.pkl','wb') as file:\n",
    "        pickle.dump(df_tweets_malone,file)\n",
    "                \n",
    "else:\n",
    "    df_tweet_copy= pd.read_pickle('tweets_malone.pkl')\n"
   ]
  },
  {
   "cell_type": "code",
   "execution_count": 12,
   "id": "19b2e8b0",
   "metadata": {},
   "outputs": [],
   "source": [
    "df_tweet = df_tweet_copy.copy()"
   ]
  },
  {
   "cell_type": "code",
   "execution_count": 13,
   "id": "27fe854c",
   "metadata": {},
   "outputs": [
    {
     "data": {
      "text/html": [
       "<div>\n",
       "<style scoped>\n",
       "    .dataframe tbody tr th:only-of-type {\n",
       "        vertical-align: middle;\n",
       "    }\n",
       "\n",
       "    .dataframe tbody tr th {\n",
       "        vertical-align: top;\n",
       "    }\n",
       "\n",
       "    .dataframe thead th {\n",
       "        text-align: right;\n",
       "    }\n",
       "</style>\n",
       "<table border=\"1\" class=\"dataframe\">\n",
       "  <thead>\n",
       "    <tr style=\"text-align: right;\">\n",
       "      <th></th>\n",
       "      <th>author_id</th>\n",
       "      <th>username</th>\n",
       "      <th>author_followers</th>\n",
       "      <th>author_followings</th>\n",
       "      <th>author_tweets</th>\n",
       "      <th>author_description</th>\n",
       "      <th>author_location</th>\n",
       "      <th>text</th>\n",
       "      <th>created_at</th>\n",
       "      <th>retweets</th>\n",
       "      <th>replies</th>\n",
       "      <th>likes</th>\n",
       "      <th>quote_count</th>\n",
       "    </tr>\n",
       "  </thead>\n",
       "  <tbody>\n",
       "    <tr>\n",
       "      <th>0</th>\n",
       "      <td>1316931193</td>\n",
       "      <td>thekapnobatai</td>\n",
       "      <td>12</td>\n",
       "      <td>88</td>\n",
       "      <td>5820</td>\n",
       "      <td>Connecting Through The Clouds</td>\n",
       "      <td>None</td>\n",
       "      <td>Dr. Robert Malone: \"The government is now lawl...</td>\n",
       "      <td>2022-01-14 17:47:15+00:00</td>\n",
       "      <td>0</td>\n",
       "      <td>0</td>\n",
       "      <td>0</td>\n",
       "      <td>0</td>\n",
       "    </tr>\n",
       "    <tr>\n",
       "      <th>1</th>\n",
       "      <td>136772697</td>\n",
       "      <td>wgaryjohnson</td>\n",
       "      <td>142</td>\n",
       "      <td>893</td>\n",
       "      <td>6566</td>\n",
       "      <td></td>\n",
       "      <td>None</td>\n",
       "      <td>@jessicamalaty @Spotify @joerogan I'm sure Rog...</td>\n",
       "      <td>2022-01-14 17:47:02+00:00</td>\n",
       "      <td>0</td>\n",
       "      <td>0</td>\n",
       "      <td>0</td>\n",
       "      <td>0</td>\n",
       "    </tr>\n",
       "    <tr>\n",
       "      <th>2</th>\n",
       "      <td>867042174</td>\n",
       "      <td>chemTrailActivi</td>\n",
       "      <td>2106</td>\n",
       "      <td>2790</td>\n",
       "      <td>28117</td>\n",
       "      <td>Meeting like-minded citizens who'll fight for ...</td>\n",
       "      <td>Arizona, USA</td>\n",
       "      <td>“How #Melatonin Prevents #Sepsis”\\nMelatonin S...</td>\n",
       "      <td>2022-01-14 17:46:52+00:00</td>\n",
       "      <td>0</td>\n",
       "      <td>0</td>\n",
       "      <td>0</td>\n",
       "      <td>0</td>\n",
       "    </tr>\n",
       "    <tr>\n",
       "      <th>3</th>\n",
       "      <td>1377753958933000192</td>\n",
       "      <td>DFoe99</td>\n",
       "      <td>104</td>\n",
       "      <td>703</td>\n",
       "      <td>8636</td>\n",
       "      <td>If you're a liberal, LOL = You're a fucking id...</td>\n",
       "      <td>None</td>\n",
       "      <td>@jessicamalaty @bethlinas @DrKatEpi I would re...</td>\n",
       "      <td>2022-01-14 17:46:39+00:00</td>\n",
       "      <td>0</td>\n",
       "      <td>0</td>\n",
       "      <td>0</td>\n",
       "      <td>0</td>\n",
       "    </tr>\n",
       "    <tr>\n",
       "      <th>4</th>\n",
       "      <td>17266544</td>\n",
       "      <td>bourbonroad</td>\n",
       "      <td>3297</td>\n",
       "      <td>4999</td>\n",
       "      <td>131767</td>\n",
       "      <td>Screenwriter, Producer, Marketing Manager, Singer</td>\n",
       "      <td>Montclair, CA</td>\n",
       "      <td>@bart_e_anderson @rebel_ess @mtaibbi Hmmm...ha...</td>\n",
       "      <td>2022-01-14 17:45:58+00:00</td>\n",
       "      <td>0</td>\n",
       "      <td>0</td>\n",
       "      <td>0</td>\n",
       "      <td>0</td>\n",
       "    </tr>\n",
       "  </tbody>\n",
       "</table>\n",
       "</div>"
      ],
      "text/plain": [
       "             author_id         username  author_followers  author_followings  \\\n",
       "0           1316931193    thekapnobatai                12                 88   \n",
       "1            136772697     wgaryjohnson               142                893   \n",
       "2            867042174  chemTrailActivi              2106               2790   \n",
       "3  1377753958933000192           DFoe99               104                703   \n",
       "4             17266544      bourbonroad              3297               4999   \n",
       "\n",
       "   author_tweets                                 author_description  \\\n",
       "0           5820                      Connecting Through The Clouds   \n",
       "1           6566                                                      \n",
       "2          28117  Meeting like-minded citizens who'll fight for ...   \n",
       "3           8636  If you're a liberal, LOL = You're a fucking id...   \n",
       "4         131767  Screenwriter, Producer, Marketing Manager, Singer   \n",
       "\n",
       "  author_location                                               text  \\\n",
       "0            None  Dr. Robert Malone: \"The government is now lawl...   \n",
       "1            None  @jessicamalaty @Spotify @joerogan I'm sure Rog...   \n",
       "2    Arizona, USA  “How #Melatonin Prevents #Sepsis”\\nMelatonin S...   \n",
       "3            None  @jessicamalaty @bethlinas @DrKatEpi I would re...   \n",
       "4   Montclair, CA  @bart_e_anderson @rebel_ess @mtaibbi Hmmm...ha...   \n",
       "\n",
       "                 created_at  retweets  replies  likes  quote_count  \n",
       "0 2022-01-14 17:47:15+00:00         0        0      0            0  \n",
       "1 2022-01-14 17:47:02+00:00         0        0      0            0  \n",
       "2 2022-01-14 17:46:52+00:00         0        0      0            0  \n",
       "3 2022-01-14 17:46:39+00:00         0        0      0            0  \n",
       "4 2022-01-14 17:45:58+00:00         0        0      0            0  "
      ]
     },
     "execution_count": 13,
     "metadata": {},
     "output_type": "execute_result"
    }
   ],
   "source": [
    "df_tweet.shape,df_tweet.columns\n",
    "df_tweet.head()"
   ]
  },
  {
   "cell_type": "code",
   "execution_count": 14,
   "id": "6fc86943",
   "metadata": {},
   "outputs": [
    {
     "data": {
      "text/plain": [
       "(22938, 13)"
      ]
     },
     "execution_count": 14,
     "metadata": {},
     "output_type": "execute_result"
    }
   ],
   "source": [
    "df_tweet.drop_duplicates(subset=['text'])\n",
    "df_tweet.shape"
   ]
  }
 ],
 "metadata": {
  "kernelspec": {
   "display_name": "Python [conda env:metis] *",
   "language": "python",
   "name": "conda-env-metis-py"
  },
  "language_info": {
   "codemirror_mode": {
    "name": "ipython",
    "version": 3
   },
   "file_extension": ".py",
   "mimetype": "text/x-python",
   "name": "python",
   "nbconvert_exporter": "python",
   "pygments_lexer": "ipython3",
   "version": "3.8.10"
  }
 },
 "nbformat": 4,
 "nbformat_minor": 5
}
