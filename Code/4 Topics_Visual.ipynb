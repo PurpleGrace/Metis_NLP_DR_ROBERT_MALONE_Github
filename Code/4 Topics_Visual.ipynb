{
 "cells": [
  {
   "cell_type": "code",
   "execution_count": 83,
   "id": "046fe812",
   "metadata": {},
   "outputs": [],
   "source": [
    "import pickle\n",
    "import pandas as pd\n",
    "import numpy as np\n",
    "import matplotlib.pyplot as plt\n",
    "import seaborn as sns\n",
    "import random"
   ]
  },
  {
   "cell_type": "code",
   "execution_count": 127,
   "id": "b8fcddc3",
   "metadata": {},
   "outputs": [],
   "source": [
    "df_tp_combine = pd.read_pickle('df_tp_combine.pkl')"
   ]
  },
  {
   "cell_type": "code",
   "execution_count": 128,
   "id": "3bc23fdd",
   "metadata": {},
   "outputs": [
    {
     "data": {
      "text/html": [
       "<div>\n",
       "<style scoped>\n",
       "    .dataframe tbody tr th:only-of-type {\n",
       "        vertical-align: middle;\n",
       "    }\n",
       "\n",
       "    .dataframe tbody tr th {\n",
       "        vertical-align: top;\n",
       "    }\n",
       "\n",
       "    .dataframe thead th {\n",
       "        text-align: right;\n",
       "    }\n",
       "</style>\n",
       "<table border=\"1\" class=\"dataframe\">\n",
       "  <thead>\n",
       "    <tr style=\"text-align: right;\">\n",
       "      <th></th>\n",
       "      <th>tweet</th>\n",
       "      <th>topic_number</th>\n",
       "      <th>topic</th>\n",
       "      <th>description</th>\n",
       "      <th>descpt_topic_number</th>\n",
       "      <th>descpt_topic</th>\n",
       "      <th>senti_score</th>\n",
       "      <th>author_followers</th>\n",
       "      <th>author_followings</th>\n",
       "      <th>author_tweets</th>\n",
       "      <th>retweets</th>\n",
       "      <th>replies</th>\n",
       "      <th>likes</th>\n",
       "      <th>quote_count</th>\n",
       "    </tr>\n",
       "  </thead>\n",
       "  <tbody>\n",
       "    <tr>\n",
       "      <th>0</th>\n",
       "      <td>dr  malone  the government is now lawless</td>\n",
       "      <td>14</td>\n",
       "      <td>just_don_know</td>\n",
       "      <td>connecting through the clouds</td>\n",
       "      <td>6</td>\n",
       "      <td>pro_anti_something</td>\n",
       "      <td>0.0000</td>\n",
       "      <td>12.0</td>\n",
       "      <td>88.0</td>\n",
       "      <td>5820.0</td>\n",
       "      <td>0.0</td>\n",
       "      <td>0.0</td>\n",
       "      <td>0.0</td>\n",
       "      <td>0.0</td>\n",
       "    </tr>\n",
       "    <tr>\n",
       "      <th>1</th>\n",
       "      <td>“how prevents melatonin significantly reduces ...</td>\n",
       "      <td>8</td>\n",
       "      <td>think_twice_vaccinate_kids</td>\n",
       "      <td>meeting like minded citizens who'll fight for ...</td>\n",
       "      <td>8</td>\n",
       "      <td>free_speech_thinker</td>\n",
       "      <td>0.0772</td>\n",
       "      <td>2106.0</td>\n",
       "      <td>2790.0</td>\n",
       "      <td>28117.0</td>\n",
       "      <td>0.0</td>\n",
       "      <td>0.0</td>\n",
       "      <td>0.0</td>\n",
       "      <td>0.0</td>\n",
       "    </tr>\n",
       "    <tr>\n",
       "      <th>2</th>\n",
       "      <td>i would really love to see you debate dr malo...</td>\n",
       "      <td>14</td>\n",
       "      <td>just_don_know</td>\n",
       "      <td>if you're a liberal, lol = you're a fucking id...</td>\n",
       "      <td>11</td>\n",
       "      <td>what_people_like_and_about_time</td>\n",
       "      <td>0.9381</td>\n",
       "      <td>104.0</td>\n",
       "      <td>703.0</td>\n",
       "      <td>8636.0</td>\n",
       "      <td>0.0</td>\n",
       "      <td>0.0</td>\n",
       "      <td>0.0</td>\n",
       "      <td>0.0</td>\n",
       "    </tr>\n",
       "    <tr>\n",
       "      <th>3</th>\n",
       "      <td>hmmm have you listened to the interviews ith ...</td>\n",
       "      <td>4</td>\n",
       "      <td>mccullough_malone</td>\n",
       "      <td>screenwriter, producer, marketing manager, singer</td>\n",
       "      <td>11</td>\n",
       "      <td>what_people_like_and_about_time</td>\n",
       "      <td>0.0000</td>\n",
       "      <td>3297.0</td>\n",
       "      <td>4999.0</td>\n",
       "      <td>131767.0</td>\n",
       "      <td>0.0</td>\n",
       "      <td>0.0</td>\n",
       "      <td>0.0</td>\n",
       "      <td>0.0</td>\n",
       "    </tr>\n",
       "    <tr>\n",
       "      <th>4</th>\n",
       "      <td>yes dr malone is solid brilliant deeply infor...</td>\n",
       "      <td>14</td>\n",
       "      <td>just_don_know</td>\n",
       "      <td>retired academic, esl/applied linguistics; uta...</td>\n",
       "      <td>0</td>\n",
       "      <td>conservative_christian_trump</td>\n",
       "      <td>0.8739</td>\n",
       "      <td>33.0</td>\n",
       "      <td>164.0</td>\n",
       "      <td>100.0</td>\n",
       "      <td>0.0</td>\n",
       "      <td>0.0</td>\n",
       "      <td>0.0</td>\n",
       "      <td>0.0</td>\n",
       "    </tr>\n",
       "  </tbody>\n",
       "</table>\n",
       "</div>"
      ],
      "text/plain": [
       "                                               tweet topic_number  \\\n",
       "0         dr  malone  the government is now lawless            14   \n",
       "1  “how prevents melatonin significantly reduces ...            8   \n",
       "2   i would really love to see you debate dr malo...           14   \n",
       "3   hmmm have you listened to the interviews ith ...            4   \n",
       "4   yes dr malone is solid brilliant deeply infor...           14   \n",
       "\n",
       "                        topic  \\\n",
       "0               just_don_know   \n",
       "1  think_twice_vaccinate_kids   \n",
       "2               just_don_know   \n",
       "3           mccullough_malone   \n",
       "4               just_don_know   \n",
       "\n",
       "                                         description descpt_topic_number  \\\n",
       "0                      connecting through the clouds                   6   \n",
       "1  meeting like minded citizens who'll fight for ...                   8   \n",
       "2  if you're a liberal, lol = you're a fucking id...                  11   \n",
       "3  screenwriter, producer, marketing manager, singer                  11   \n",
       "4  retired academic, esl/applied linguistics; uta...                   0   \n",
       "\n",
       "                      descpt_topic  senti_score  author_followers  \\\n",
       "0               pro_anti_something       0.0000              12.0   \n",
       "1              free_speech_thinker       0.0772            2106.0   \n",
       "2  what_people_like_and_about_time       0.9381             104.0   \n",
       "3  what_people_like_and_about_time       0.0000            3297.0   \n",
       "4     conservative_christian_trump       0.8739              33.0   \n",
       "\n",
       "   author_followings  author_tweets  retweets  replies  likes  quote_count  \n",
       "0               88.0         5820.0       0.0      0.0    0.0          0.0  \n",
       "1             2790.0        28117.0       0.0      0.0    0.0          0.0  \n",
       "2              703.0         8636.0       0.0      0.0    0.0          0.0  \n",
       "3             4999.0       131767.0       0.0      0.0    0.0          0.0  \n",
       "4              164.0          100.0       0.0      0.0    0.0          0.0  "
      ]
     },
     "execution_count": 128,
     "metadata": {},
     "output_type": "execute_result"
    }
   ],
   "source": [
    "df_tp_combine.head()"
   ]
  },
  {
   "cell_type": "code",
   "execution_count": 129,
   "id": "fec8ae65",
   "metadata": {},
   "outputs": [
    {
     "data": {
      "text/plain": [
       "12"
      ]
     },
     "execution_count": 129,
     "metadata": {},
     "output_type": "execute_result"
    }
   ],
   "source": [
    "descrip_topics_list = ['conservative_christian_trump',\n",
    "                        'just_guy_someone',\n",
    "                         'truthseeker',\n",
    "                         'god_family_country',\n",
    "                         'gettr_gab_parler_other_platform',\n",
    "                         'jersey_girlinfj_no_dms_no magats',\n",
    "                         'pro_anti_something',\n",
    "                        'father_husband_identity',\n",
    "                        'free_speech_thinker',\n",
    "                         'love_something',\n",
    "                         'do/dont_follow_don/do_somthing',\n",
    "                         'what_people_like_and_about_time',\n",
    "                         ]\n",
    "len(descrip_topics_list)"
   ]
  },
  {
   "cell_type": "code",
   "execution_count": 130,
   "id": "52373d5a",
   "metadata": {},
   "outputs": [
    {
     "data": {
      "text/plain": [
       "15"
      ]
     },
     "execution_count": 130,
     "metadata": {},
     "output_type": "execute_result"
    }
   ],
   "source": [
    "tweet_topics_list= ['joe_malone_interview',\n",
    " 'mass_formation_psychosis',\n",
    " 'inventor_of_mrna_malone',\n",
    " 'china_spread_hemorrhagic_fever_virus',\n",
    " 'mccullough_malone',\n",
    " 'someone_liked_malone',\n",
    " 'veritas_project_premeditated_manslaughter',\n",
    " 'malone_interview',\n",
    " 'think_twice_vaccinate_kids',\n",
    " 'listen_to_malone_podcast',\n",
    " 'about_what_malone_said',\n",
    " 'malone_invented_mrna',\n",
    " 'vaccine_mrna',\n",
    " 'twitter_banned_malone',\n",
    " 'just_don_know']\n",
    "\n",
    "len(tweet_topics_list)"
   ]
  },
  {
   "cell_type": "code",
   "execution_count": 131,
   "id": "967856a5",
   "metadata": {
    "scrolled": true
   },
   "outputs": [
    {
     "data": {
      "text/html": [
       "<div>\n",
       "<style scoped>\n",
       "    .dataframe tbody tr th:only-of-type {\n",
       "        vertical-align: middle;\n",
       "    }\n",
       "\n",
       "    .dataframe tbody tr th {\n",
       "        vertical-align: top;\n",
       "    }\n",
       "\n",
       "    .dataframe thead th {\n",
       "        text-align: right;\n",
       "    }\n",
       "</style>\n",
       "<table border=\"1\" class=\"dataframe\">\n",
       "  <thead>\n",
       "    <tr style=\"text-align: right;\">\n",
       "      <th></th>\n",
       "      <th>topic_number</th>\n",
       "      <th>descpt_topic_number</th>\n",
       "      <th>senti_score_mean</th>\n",
       "      <th>senti_score_std</th>\n",
       "      <th>tweet_count</th>\n",
       "    </tr>\n",
       "  </thead>\n",
       "  <tbody>\n",
       "    <tr>\n",
       "      <th>0</th>\n",
       "      <td>0</td>\n",
       "      <td>0</td>\n",
       "      <td>-0.040642</td>\n",
       "      <td>0.494203</td>\n",
       "      <td>62</td>\n",
       "    </tr>\n",
       "    <tr>\n",
       "      <th>1</th>\n",
       "      <td>0</td>\n",
       "      <td>1</td>\n",
       "      <td>0.224995</td>\n",
       "      <td>0.433715</td>\n",
       "      <td>20</td>\n",
       "    </tr>\n",
       "    <tr>\n",
       "      <th>2</th>\n",
       "      <td>0</td>\n",
       "      <td>2</td>\n",
       "      <td>-0.079539</td>\n",
       "      <td>0.383674</td>\n",
       "      <td>18</td>\n",
       "    </tr>\n",
       "    <tr>\n",
       "      <th>3</th>\n",
       "      <td>0</td>\n",
       "      <td>3</td>\n",
       "      <td>0.029368</td>\n",
       "      <td>0.491252</td>\n",
       "      <td>31</td>\n",
       "    </tr>\n",
       "    <tr>\n",
       "      <th>4</th>\n",
       "      <td>0</td>\n",
       "      <td>4</td>\n",
       "      <td>0.085683</td>\n",
       "      <td>0.414088</td>\n",
       "      <td>18</td>\n",
       "    </tr>\n",
       "    <tr>\n",
       "      <th>...</th>\n",
       "      <td>...</td>\n",
       "      <td>...</td>\n",
       "      <td>...</td>\n",
       "      <td>...</td>\n",
       "      <td>...</td>\n",
       "    </tr>\n",
       "    <tr>\n",
       "      <th>175</th>\n",
       "      <td>14</td>\n",
       "      <td>7</td>\n",
       "      <td>0.059442</td>\n",
       "      <td>0.489254</td>\n",
       "      <td>191</td>\n",
       "    </tr>\n",
       "    <tr>\n",
       "      <th>176</th>\n",
       "      <td>14</td>\n",
       "      <td>8</td>\n",
       "      <td>0.008552</td>\n",
       "      <td>0.470807</td>\n",
       "      <td>197</td>\n",
       "    </tr>\n",
       "    <tr>\n",
       "      <th>177</th>\n",
       "      <td>14</td>\n",
       "      <td>9</td>\n",
       "      <td>-0.003053</td>\n",
       "      <td>0.458857</td>\n",
       "      <td>213</td>\n",
       "    </tr>\n",
       "    <tr>\n",
       "      <th>178</th>\n",
       "      <td>14</td>\n",
       "      <td>10</td>\n",
       "      <td>-0.011804</td>\n",
       "      <td>0.452758</td>\n",
       "      <td>246</td>\n",
       "    </tr>\n",
       "    <tr>\n",
       "      <th>179</th>\n",
       "      <td>14</td>\n",
       "      <td>11</td>\n",
       "      <td>0.026554</td>\n",
       "      <td>0.462681</td>\n",
       "      <td>1492</td>\n",
       "    </tr>\n",
       "  </tbody>\n",
       "</table>\n",
       "<p>180 rows × 5 columns</p>\n",
       "</div>"
      ],
      "text/plain": [
       "     topic_number  descpt_topic_number  senti_score_mean  senti_score_std  \\\n",
       "0               0                    0         -0.040642         0.494203   \n",
       "1               0                    1          0.224995         0.433715   \n",
       "2               0                    2         -0.079539         0.383674   \n",
       "3               0                    3          0.029368         0.491252   \n",
       "4               0                    4          0.085683         0.414088   \n",
       "..            ...                  ...               ...              ...   \n",
       "175            14                    7          0.059442         0.489254   \n",
       "176            14                    8          0.008552         0.470807   \n",
       "177            14                    9         -0.003053         0.458857   \n",
       "178            14                   10         -0.011804         0.452758   \n",
       "179            14                   11          0.026554         0.462681   \n",
       "\n",
       "     tweet_count  \n",
       "0             62  \n",
       "1             20  \n",
       "2             18  \n",
       "3             31  \n",
       "4             18  \n",
       "..           ...  \n",
       "175          191  \n",
       "176          197  \n",
       "177          213  \n",
       "178          246  \n",
       "179         1492  \n",
       "\n",
       "[180 rows x 5 columns]"
      ]
     },
     "execution_count": 131,
     "metadata": {},
     "output_type": "execute_result"
    }
   ],
   "source": [
    "df_analy = (df_tp_combine.groupby(['topic_number','descpt_topic_number']).\n",
    "                agg({'senti_score':['mean','std'], 'tweet':'count'}).reset_index())\n",
    "df_analy.columns = ['topic_number','descpt_topic_number','senti_score_mean','senti_score_std','tweet_count']\n",
    "df_analy"
   ]
  },
  {
   "cell_type": "code",
   "execution_count": 132,
   "id": "c7032f9e",
   "metadata": {},
   "outputs": [
    {
     "data": {
      "text/html": [
       "<div>\n",
       "<style scoped>\n",
       "    .dataframe tbody tr th:only-of-type {\n",
       "        vertical-align: middle;\n",
       "    }\n",
       "\n",
       "    .dataframe tbody tr th {\n",
       "        vertical-align: top;\n",
       "    }\n",
       "\n",
       "    .dataframe thead th {\n",
       "        text-align: right;\n",
       "    }\n",
       "</style>\n",
       "<table border=\"1\" class=\"dataframe\">\n",
       "  <thead>\n",
       "    <tr style=\"text-align: right;\">\n",
       "      <th></th>\n",
       "      <th>topic_number</th>\n",
       "      <th>descpt_topic_number</th>\n",
       "      <th>senti_score_mean</th>\n",
       "      <th>senti_score_std</th>\n",
       "      <th>tweet_count</th>\n",
       "    </tr>\n",
       "  </thead>\n",
       "  <tbody>\n",
       "    <tr>\n",
       "      <th>count</th>\n",
       "      <td>180.000000</td>\n",
       "      <td>180.000000</td>\n",
       "      <td>180.000000</td>\n",
       "      <td>179.000000</td>\n",
       "      <td>180.000000</td>\n",
       "    </tr>\n",
       "    <tr>\n",
       "      <th>mean</th>\n",
       "      <td>7.000000</td>\n",
       "      <td>5.500000</td>\n",
       "      <td>0.017774</td>\n",
       "      <td>0.461084</td>\n",
       "      <td>65.127778</td>\n",
       "    </tr>\n",
       "    <tr>\n",
       "      <th>std</th>\n",
       "      <td>4.332545</td>\n",
       "      <td>3.461682</td>\n",
       "      <td>0.110139</td>\n",
       "      <td>0.053270</td>\n",
       "      <td>129.656876</td>\n",
       "    </tr>\n",
       "    <tr>\n",
       "      <th>min</th>\n",
       "      <td>0.000000</td>\n",
       "      <td>0.000000</td>\n",
       "      <td>-0.743000</td>\n",
       "      <td>0.237144</td>\n",
       "      <td>1.000000</td>\n",
       "    </tr>\n",
       "    <tr>\n",
       "      <th>25%</th>\n",
       "      <td>3.000000</td>\n",
       "      <td>2.750000</td>\n",
       "      <td>-0.026561</td>\n",
       "      <td>0.433737</td>\n",
       "      <td>20.750000</td>\n",
       "    </tr>\n",
       "    <tr>\n",
       "      <th>50%</th>\n",
       "      <td>7.000000</td>\n",
       "      <td>5.500000</td>\n",
       "      <td>0.022612</td>\n",
       "      <td>0.468967</td>\n",
       "      <td>32.000000</td>\n",
       "    </tr>\n",
       "    <tr>\n",
       "      <th>75%</th>\n",
       "      <td>11.000000</td>\n",
       "      <td>8.250000</td>\n",
       "      <td>0.068649</td>\n",
       "      <td>0.488533</td>\n",
       "      <td>52.500000</td>\n",
       "    </tr>\n",
       "    <tr>\n",
       "      <th>max</th>\n",
       "      <td>14.000000</td>\n",
       "      <td>11.000000</td>\n",
       "      <td>0.320711</td>\n",
       "      <td>0.610842</td>\n",
       "      <td>1492.000000</td>\n",
       "    </tr>\n",
       "  </tbody>\n",
       "</table>\n",
       "</div>"
      ],
      "text/plain": [
       "       topic_number  descpt_topic_number  senti_score_mean  senti_score_std  \\\n",
       "count    180.000000           180.000000        180.000000       179.000000   \n",
       "mean       7.000000             5.500000          0.017774         0.461084   \n",
       "std        4.332545             3.461682          0.110139         0.053270   \n",
       "min        0.000000             0.000000         -0.743000         0.237144   \n",
       "25%        3.000000             2.750000         -0.026561         0.433737   \n",
       "50%        7.000000             5.500000          0.022612         0.468967   \n",
       "75%       11.000000             8.250000          0.068649         0.488533   \n",
       "max       14.000000            11.000000          0.320711         0.610842   \n",
       "\n",
       "       tweet_count  \n",
       "count   180.000000  \n",
       "mean     65.127778  \n",
       "std     129.656876  \n",
       "min       1.000000  \n",
       "25%      20.750000  \n",
       "50%      32.000000  \n",
       "75%      52.500000  \n",
       "max    1492.000000  "
      ]
     },
     "execution_count": 132,
     "metadata": {},
     "output_type": "execute_result"
    }
   ],
   "source": [
    "df_analy.describe()"
   ]
  },
  {
   "cell_type": "code",
   "execution_count": 133,
   "id": "5a103749",
   "metadata": {
    "scrolled": true
   },
   "outputs": [
    {
     "data": {
      "text/html": [
       "<div>\n",
       "<style scoped>\n",
       "    .dataframe tbody tr th:only-of-type {\n",
       "        vertical-align: middle;\n",
       "    }\n",
       "\n",
       "    .dataframe tbody tr th {\n",
       "        vertical-align: top;\n",
       "    }\n",
       "\n",
       "    .dataframe thead th {\n",
       "        text-align: right;\n",
       "    }\n",
       "</style>\n",
       "<table border=\"1\" class=\"dataframe\">\n",
       "  <thead>\n",
       "    <tr style=\"text-align: right;\">\n",
       "      <th></th>\n",
       "      <th>topic_number</th>\n",
       "      <th>senti_score</th>\n",
       "    </tr>\n",
       "  </thead>\n",
       "  <tbody>\n",
       "    <tr>\n",
       "      <th>0</th>\n",
       "      <td>0</td>\n",
       "      <td>0.029069</td>\n",
       "    </tr>\n",
       "    <tr>\n",
       "      <th>1</th>\n",
       "      <td>1</td>\n",
       "      <td>0.024996</td>\n",
       "    </tr>\n",
       "    <tr>\n",
       "      <th>2</th>\n",
       "      <td>2</td>\n",
       "      <td>0.038348</td>\n",
       "    </tr>\n",
       "    <tr>\n",
       "      <th>3</th>\n",
       "      <td>3</td>\n",
       "      <td>-0.009650</td>\n",
       "    </tr>\n",
       "    <tr>\n",
       "      <th>4</th>\n",
       "      <td>4</td>\n",
       "      <td>0.034313</td>\n",
       "    </tr>\n",
       "    <tr>\n",
       "      <th>5</th>\n",
       "      <td>5</td>\n",
       "      <td>0.043483</td>\n",
       "    </tr>\n",
       "    <tr>\n",
       "      <th>6</th>\n",
       "      <td>6</td>\n",
       "      <td>0.058376</td>\n",
       "    </tr>\n",
       "    <tr>\n",
       "      <th>7</th>\n",
       "      <td>7</td>\n",
       "      <td>0.047448</td>\n",
       "    </tr>\n",
       "    <tr>\n",
       "      <th>8</th>\n",
       "      <td>8</td>\n",
       "      <td>-0.013593</td>\n",
       "    </tr>\n",
       "    <tr>\n",
       "      <th>9</th>\n",
       "      <td>9</td>\n",
       "      <td>0.032789</td>\n",
       "    </tr>\n",
       "    <tr>\n",
       "      <th>10</th>\n",
       "      <td>10</td>\n",
       "      <td>0.010786</td>\n",
       "    </tr>\n",
       "    <tr>\n",
       "      <th>11</th>\n",
       "      <td>11</td>\n",
       "      <td>0.038859</td>\n",
       "    </tr>\n",
       "    <tr>\n",
       "      <th>12</th>\n",
       "      <td>12</td>\n",
       "      <td>-0.009190</td>\n",
       "    </tr>\n",
       "    <tr>\n",
       "      <th>13</th>\n",
       "      <td>13</td>\n",
       "      <td>0.037174</td>\n",
       "    </tr>\n",
       "    <tr>\n",
       "      <th>14</th>\n",
       "      <td>14</td>\n",
       "      <td>0.022653</td>\n",
       "    </tr>\n",
       "  </tbody>\n",
       "</table>\n",
       "</div>"
      ],
      "text/plain": [
       "    topic_number  senti_score\n",
       "0              0     0.029069\n",
       "1              1     0.024996\n",
       "2              2     0.038348\n",
       "3              3    -0.009650\n",
       "4              4     0.034313\n",
       "5              5     0.043483\n",
       "6              6     0.058376\n",
       "7              7     0.047448\n",
       "8              8    -0.013593\n",
       "9              9     0.032789\n",
       "10            10     0.010786\n",
       "11            11     0.038859\n",
       "12            12    -0.009190\n",
       "13            13     0.037174\n",
       "14            14     0.022653"
      ]
     },
     "execution_count": 133,
     "metadata": {},
     "output_type": "execute_result"
    }
   ],
   "source": [
    "df_temp = df_tp_combine.groupby(['topic_number'])['senti_score'].mean().reset_index()\n",
    "df_temp"
   ]
  },
  {
   "cell_type": "code",
   "execution_count": 134,
   "id": "59cb92c7",
   "metadata": {},
   "outputs": [
    {
     "data": {
      "text/plain": [
       "<AxesSubplot:xlabel='topic_number'>"
      ]
     },
     "execution_count": 134,
     "metadata": {},
     "output_type": "execute_result"
    },
    {
     "data": {
      "image/png": "[encoded data removed]",
      "text/plain": [
       "<Figure size 1080x576 with 1 Axes>"
      ]
     },
     "metadata": {
      "needs_background": "light"
     },
     "output_type": "display_data"
    }
   ],
   "source": [
    "df_temp.plot(x = 'topic_number',y='senti_score',figsize=(15,8))"
   ]
  },
  {
   "cell_type": "code",
   "execution_count": 135,
   "id": "59107759",
   "metadata": {},
   "outputs": [
    {
     "data": {
      "text/plain": [
       "<AxesSubplot:xlabel='topic_number', ylabel='senti_score'>"
      ]
     },
     "execution_count": 135,
     "metadata": {},
     "output_type": "execute_result"
    },
    {
     "data": {
      "image/png": "[encoded data removed]",
      "text/plain": [
       "<Figure size 1080x576 with 1 Axes>"
      ]
     },
     "metadata": {
      "needs_background": "light"
     },
     "output_type": "display_data"
    }
   ],
   "source": [
    "fig, ax = plt.subplots(figsize=(15,8))\n",
    "sns.boxplot(data = df_tp_combine, x = 'topic_number', y = 'senti_score')"
   ]
  },
  {
   "cell_type": "code",
   "execution_count": 162,
   "id": "f8bbdc70",
   "metadata": {
    "scrolled": true
   },
   "outputs": [
    {
     "data": {
      "text/plain": [
       "<AxesSubplot:xlabel='descpt_topic_number', ylabel='senti_score'>"
      ]
     },
     "execution_count": 162,
     "metadata": {},
     "output_type": "execute_result"
    },
    {
     "data": {
      "image/png": "[encoded data removed]",
      "text/plain": [
       "<Figure size 1080x576 with 1 Axes>"
      ]
     },
     "metadata": {
      "needs_background": "light"
     },
     "output_type": "display_data"
    }
   ],
   "source": [
    "fig, ax = plt.subplots(figsize=(15,8))\n",
    "sns.boxplot(data = df_tp_combine, x = 'descpt_topic_number', y = 'senti_score')"
   ]
  },
  {
   "cell_type": "code",
   "execution_count": 139,
   "id": "dfeacfbb",
   "metadata": {
    "scrolled": false
   },
   "outputs": [
    {
     "name": "stderr",
     "output_type": "stream",
     "text": [
      "/Users/kristy/opt/anaconda3/envs/metis/lib/python3.8/site-packages/seaborn/axisgrid.py:670: UserWarning: Using the barplot function without specifying `order` is likely to produce an incorrect plot.\n",
      "  warnings.warn(warning)\n"
     ]
    },
    {
     "data": {
      "text/plain": [
       "Text(0.5, 0.85, 'Different people have diffent attitude on topics fig_1')"
      ]
     },
     "execution_count": 139,
     "metadata": {},
     "output_type": "execute_result"
    },
    {
     "data": {
      "image/png": "[encoded data removed]",
      "text/plain": [
       "<Figure size 648x1080 with 15 Axes>"
      ]
     },
     "metadata": {
      "needs_background": "light"
     },
     "output_type": "display_data"
    }
   ],
   "source": [
    "grid = sns.FacetGrid(df_analy,col=\"topic_number\", col_wrap=3,hue = 'topic_number')\n",
    "grid.map(sns.barplot,'descpt_topic_number','senti_score_mean')\n",
    "grid.set_xticklabels(rotation = 45)\n",
    "grid.fig.subplots_adjust(top= 0.8)\n",
    "grid.fig.suptitle('Different people have diffent attitude on topics fig_1',x = .5, y = .85)"
   ]
  },
  {
   "cell_type": "code",
   "execution_count": 140,
   "id": "6d945a13",
   "metadata": {
    "scrolled": false
   },
   "outputs": [
    {
     "name": "stderr",
     "output_type": "stream",
     "text": [
      "/Users/kristy/opt/anaconda3/envs/metis/lib/python3.8/site-packages/seaborn/axisgrid.py:670: UserWarning: Using the barplot function without specifying `order` is likely to produce an incorrect plot.\n",
      "  warnings.warn(warning)\n"
     ]
    },
    {
     "data": {
      "text/plain": [
       "Text(0.5, 1.05, 'Different people have diffent attitude on topics fig_2')"
      ]
     },
     "execution_count": 140,
     "metadata": {},
     "output_type": "execute_result"
    },
    {
     "data": {
      "image/png": "[encoded data removed]",
      "text/plain": [
       "<Figure size 864x648 with 12 Axes>"
      ]
     },
     "metadata": {
      "needs_background": "light"
     },
     "output_type": "display_data"
    }
   ],
   "source": [
    "grid = sns.FacetGrid(df_analy,col=\"descpt_topic_number\", col_wrap=4,hue = 'descpt_topic_number')\n",
    "grid.map(sns.barplot,'topic_number','senti_score_mean')\n",
    "grid.fig.suptitle('Different people have diffent attitude on topics fig_2',x = .5, y = 1.05)"
   ]
  },
  {
   "cell_type": "code",
   "execution_count": 148,
   "id": "4d28a01a",
   "metadata": {},
   "outputs": [],
   "source": [
    "def topic_user_search(topic_n = 0,descpt_topic_n =1):\n",
    "    df_temp_group_topic = (df_tp_combine[( df_tp_combine.topic_number == topic_n)\n",
    "                                        &(df_tp_combine.descpt_topic_number == descpt_topic_n)])\n",
    "    senti_mean = np.mean(df_temp_group_topic.senti_score)\n",
    "    print(f'Topic: {tweet_topics_list[topic_n]}, user group: {descrip_topics_list[descpt_topic_n]}')\n",
    "    print('Sentiment score mean is : ',senti_mean)\n",
    "    x = random.sample(df_temp_group_topic.tweet.to_list(),min(5,len(df_temp_group_topic)))\n",
    "    for i,j in enumerate (x):\n",
    "        print(i,\":\",j)"
   ]
  },
  {
   "cell_type": "code",
   "execution_count": 171,
   "id": "0ffa47cd",
   "metadata": {},
   "outputs": [
    {
     "name": "stdout",
     "output_type": "stream",
     "text": [
      "Topic: about_what_malone_said, user group: god_family_country\n",
      "Sentiment score mean is :  0.16065000000000002\n",
      "0 :  more and more of those who received boosters are getting the variant probably like what dr malone said you don’t use yesterdays weapons to fight todays wars paraphrasing \n",
      "1 :  dr malone said 6 weeks this whole thing has been a lie \n",
      "2 :  malone also said you cant get it twice your natural immune response recognises the strain sequence and derivatives of it i emphasis natural maybe those that are getting synthetic mrna induced variety are getting different strains because is not natural virus \n",
      "3 : i know most who have anything to say about the podcast with dr malone have said it all but please listen to the last 20 mins of the 3 hours if you want continued freedom \n",
      "4 :  liberal rag what was wrong with what dr malone said he is spot on cnbc is a front for the people wanting to control us \n"
     ]
    }
   ],
   "source": [
    "topic_user_search(10,3)"
   ]
  },
  {
   "cell_type": "code",
   "execution_count": 169,
   "id": "3fd9e0c2",
   "metadata": {},
   "outputs": [
    {
     "name": "stdout",
     "output_type": "stream",
     "text": [
      "Topic: about_what_malone_said, user group: jersey_girlinfj_no_dms_no magats\n",
      "Sentiment score mean is :  -0.743\n",
      "0 :  well it matches what dr malone said to rogan where they re just hoping endless boosters does something\n"
     ]
    }
   ],
   "source": [
    "topic_user_search(10,5)"
   ]
  },
  {
   "cell_type": "code",
   "execution_count": 159,
   "id": "9780ec5e",
   "metadata": {},
   "outputs": [
    {
     "data": {
      "text/plain": [
       "{0: 'joe_malone_interview',\n",
       " 1: 'mass_formation_psychosis',\n",
       " 2: 'inventor_of_mrna_malone',\n",
       " 3: 'china_spread_hemorrhagic_fever_virus',\n",
       " 4: 'mccullough_malone',\n",
       " 5: 'someone_liked_malone',\n",
       " 6: 'veritas_project_premeditated_manslaughter',\n",
       " 7: 'malone_interview',\n",
       " 8: 'think_twice_vaccinate_kids',\n",
       " 9: 'listen_to_malone_podcast',\n",
       " 10: 'about_what_malone_said',\n",
       " 11: 'malone_invented_mrna',\n",
       " 12: 'vaccine_mrna',\n",
       " 13: 'twitter_banned_malone',\n",
       " 14: 'just_don_know'}"
      ]
     },
     "execution_count": 159,
     "metadata": {},
     "output_type": "execute_result"
    }
   ],
   "source": [
    "l1= range(len(tweet_topics_list))\n",
    "dict(zip(l1,tweet_topics_list))"
   ]
  },
  {
   "cell_type": "code",
   "execution_count": 160,
   "id": "0ded2fe2",
   "metadata": {},
   "outputs": [
    {
     "data": {
      "text/plain": [
       "{0: 'conservative_christian_trump',\n",
       " 1: 'just_guy_someone',\n",
       " 2: 'truthseeker',\n",
       " 3: 'god_family_country',\n",
       " 4: 'gettr_gab_parler_other_platform',\n",
       " 5: 'jersey_girlinfj_no_dms_no magats',\n",
       " 6: 'pro_anti_something',\n",
       " 7: 'father_husband_identity',\n",
       " 8: 'free_speech_thinker',\n",
       " 9: 'love_something',\n",
       " 10: 'do/dont_follow_don/do_somthing',\n",
       " 11: 'what_people_like_and_about_time'}"
      ]
     },
     "execution_count": 160,
     "metadata": {},
     "output_type": "execute_result"
    }
   ],
   "source": [
    "l2= range(len(descrip_topics_list))\n",
    "dict(zip(l2,descrip_topics_list))"
   ]
  },
  {
   "cell_type": "code",
   "execution_count": null,
   "id": "7dfa2e01",
   "metadata": {},
   "outputs": [],
   "source": []
  }
 ],
 "metadata": {
  "kernelspec": {
   "display_name": "Python [conda env:metis] *",
   "language": "python",
   "name": "conda-env-metis-py"
  },
  "language_info": {
   "codemirror_mode": {
    "name": "ipython",
    "version": 3
   },
   "file_extension": ".py",
   "mimetype": "text/x-python",
   "name": "python",
   "nbconvert_exporter": "python",
   "pygments_lexer": "ipython3",
   "version": "3.8.10"
  }
 },
 "nbformat": 4,
 "nbformat_minor": 5
}
